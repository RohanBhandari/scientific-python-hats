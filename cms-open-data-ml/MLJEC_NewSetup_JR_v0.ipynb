{
 "cells": [
  {
   "cell_type": "code",
   "execution_count": 1,
   "metadata": {
    "collapsed": true
   },
   "outputs": [],
   "source": [
    "import h5py\n",
    "import numpy as np\n",
    "from sklearn.preprocessing import StandardScaler"
   ]
  },
  {
   "cell_type": "code",
   "execution_count": 2,
   "metadata": {
    "collapsed": true
   },
   "outputs": [],
   "source": [
    "f=h5py.File('/inputdata/cms-open-data-ml/big_train_test_data.h5','r')"
   ]
  },
  {
   "cell_type": "code",
   "execution_count": 3,
   "metadata": {},
   "outputs": [
    {
     "name": "stdout",
     "output_type": "stream",
     "text": [
      "<HDF5 dataset \"X_0_test\": shape (148244, 30, 30, 1), type \"<f8\">\n",
      "<HDF5 dataset \"X_0_train\": shape (148244, 30, 30, 1), type \"<f8\">\n",
      "<HDF5 dataset \"X_1_test\": shape (148244,), type \"<f8\">\n",
      "<HDF5 dataset \"X_1_train\": shape (148244,), type \"<f8\">\n",
      "<HDF5 dataset \"X_2_test\": shape (148244,), type \"<f8\">\n",
      "<HDF5 dataset \"X_2_train\": shape (148244,), type \"<f8\">\n",
      "<HDF5 dataset \"encoded_Y_test\": shape (148244,), type \"<f8\">\n",
      "<HDF5 dataset \"encoded_Y_train\": shape (148244,), type \"<f8\">\n"
     ]
    }
   ],
   "source": [
    "for n in f.keys():\n",
    "    print f[n]"
   ]
  },
  {
   "cell_type": "code",
   "execution_count": 4,
   "metadata": {
    "collapsed": true
   },
   "outputs": [],
   "source": [
    "encoded_Y_train = f['encoded_Y_train'].value\n",
    "encoded_Y_test = f['encoded_Y_test'].value\n",
    "X_train = [f['X_%d_train'%j].value for j in range(0,3)]\n",
    "X_test = [f['X_%d_test'%j].value for j in range(0,3)]"
   ]
  },
  {
   "cell_type": "code",
   "execution_count": 5,
   "metadata": {
    "collapsed": true
   },
   "outputs": [],
   "source": [
    "# change pT range from 0 - 100, since we read in pthat 120-470\n",
    "np.clip(X_train[0],0,100,out=X_train[0])\n",
    "np.clip(X_test[0],0,100,out=X_test[0])\n",
    "#scale\n",
    "scaler = StandardScaler()\n",
    "X_train[1] = scaler.fit_transform(X_train[1].reshape(-1,1))\n",
    "X_test[1] = scaler.transform(X_test[1].reshape(-1,1))\n",
    "#X_train[2] /= np.max(np.abs(2.5),axis=0)\n",
    "#X_test[2] /= np.max(np.abs(2.5),axis=0)\n",
    "# normalize jet eta \n",
    "X_train[2] /= 2.5\n",
    "X_test[2] /= 2.5"
   ]
  },
  {
   "cell_type": "code",
   "execution_count": 6,
   "metadata": {
    "collapsed": true
   },
   "outputs": [],
   "source": [
    "import matplotlib.pyplot as plt\n",
    "%matplotlib inline"
   ]
  },
  {
   "cell_type": "code",
   "execution_count": 7,
   "metadata": {},
   "outputs": [
    {
     "data": {
      "image/png": "[encoded data removed]",
      "text/plain": [
       "<matplotlib.figure.Figure at 0x7fafa896b390>"
      ]
     },
     "metadata": {},
     "output_type": "display_data"
    }
   ],
   "source": [
    "plt.hist(np.ravel(X_train[0]), label='train', alpha=0.5, normed=True)\n",
    "plt.hist(np.ravel(X_test[0]), label='test', alpha=0.5, normed=True)\n",
    "plt.legend()\n",
    "plt.yscale('log')\n",
    "plt.xlabel(r'Jet Constituent $p_{T}$ [GeV]')\n",
    "plt.show()"
   ]
  },
  {
   "cell_type": "code",
   "execution_count": 8,
   "metadata": {},
   "outputs": [
    {
     "data": {
      "image/png": "[encoded data removed]",
      "text/plain": [
       "<matplotlib.figure.Figure at 0x7fafa6714a90>"
      ]
     },
     "metadata": {},
     "output_type": "display_data"
    }
   ],
   "source": [
    "plt.hist(np.ravel(X_train[1]), label='train', alpha=0.5, normed=True)\n",
    "plt.hist(np.ravel(X_test[1]), label='test', alpha=0.5, normed=True)\n",
    "plt.legend()\n",
    "plt.yscale('log')\n",
    "plt.xlabel(r'Scaled Jet p$_{T}$')\n",
    "plt.show()"
   ]
  },
  {
   "cell_type": "code",
   "execution_count": 9,
   "metadata": {},
   "outputs": [
    {
     "data": {
      "image/png": "[encoded data removed]",
      "text/plain": [
       "<matplotlib.figure.Figure at 0x7faf98c6d090>"
      ]
     },
     "metadata": {},
     "output_type": "display_data"
    }
   ],
   "source": [
    "plt.hist(np.ravel(X_train[2]), label='train', alpha=0.5, normed=True)\n",
    "plt.hist(np.ravel(X_test[2]), label='test', alpha=0.5, normed=True)\n",
    "plt.legend()\n",
    "plt.yscale('log')\n",
    "plt.xlabel(r'Jet $\\eta$')\n",
    "plt.show()"
   ]
  },
  {
   "cell_type": "code",
   "execution_count": 10,
   "metadata": {},
   "outputs": [
    {
     "data": {
      "image/png": "[encoded data removed]",
      "text/plain": [
       "<matplotlib.figure.Figure at 0x7faf98b75fd0>"
      ]
     },
     "metadata": {},
     "output_type": "display_data"
    }
   ],
   "source": [
    "plt.hist(encoded_Y_train, label='train', alpha=0.5, normed=True)\n",
    "plt.hist(encoded_Y_test, label='test', alpha=0.5, normed=True)\n",
    "plt.legend()\n",
    "plt.yscale('log')\n",
    "plt.xlabel('JES')\n",
    "plt.show()"
   ]
  },
  {
   "cell_type": "code",
   "execution_count": 11,
   "metadata": {
    "scrolled": false
   },
   "outputs": [
    {
     "name": "stderr",
     "output_type": "stream",
     "text": [
      "Using TensorFlow backend.\n"
     ]
    }
   ],
   "source": [
    "import os, getpass\n",
    "os.environ['KERAS_BACKEND'] = 'tensorflow'\n",
    "os.environ['CUDA_VISIBLE_DEVICES']='2'\n",
    "\n",
    "from keras.layers import Input, Activation, Dense, Convolution2D, MaxPooling2D, Dropout, Flatten\n",
    "from keras.models import Model\n",
    "from keras.layers.advanced_activations import LeakyReLU, PReLU\n",
    "from keras.layers import Merge, merge\n",
    "\n",
    "input_layer = Input(shape=(30,30,1))\n",
    "layer = Convolution2D(20, 11,11, border_mode='same')(input_layer)\n",
    "layer = Activation('tanh')(layer)\n",
    "layer = MaxPooling2D(pool_size=(2,2))(layer)\n",
    "#layer = Convolution2D(15, 9, 9, border_mode='same')(layer)\n",
    "#layer = Activation('tanh')(layer)\n",
    "#layer = MaxPooling2D(pool_size=(2,2))(layer)\n",
    "layer = Convolution2D(10, 7, 7, border_mode='same')(layer)\n",
    "layer = Activation('tanh')(layer)\n",
    "layer = MaxPooling2D(pool_size=(3,3))(layer)\n",
    "layer = Convolution2D(8, 5, 5, border_mode='same')(layer)\n",
    "layer = Activation('tanh')(layer)\n",
    "#layer = MaxPooling2D(pool_size=(2,2))(layer)\n",
    "layer = Convolution2D(6, 5, 5, border_mode='same')(layer)\n",
    "layer = Activation('tanh')(layer)\n",
    "layer = MaxPooling2D(pool_size=(2,2))(layer)\n",
    "layer = Convolution2D(4, 5, 5, border_mode='same')(layer)\n",
    "layer = Activation('tanh')(layer)\n",
    "#layer = MaxPooling2D(pool_size=(3,3))(layer)\n",
    "layer = Flatten()(layer)\n",
    "# additional features input\n",
    "jet_pt_ak7_input = Input(shape=(1,), name='jet_pt_ak7_input')\n",
    "jet_eta_ak7_input = Input(shape=(1,), name='jet_eta_ak7_input')\n",
    "layer = merge([layer, jet_pt_ak7_input, jet_eta_ak7_input], mode='concat')\n",
    "#layer = Dropout(0.20)(layer)\n",
    "# changing from softplus to tanh\n",
    "layer = Dense(20, activation='softplus')(layer)\n",
    "layer = Dropout(0.08)(layer)\n",
    "#other activation option 'sigmoid' better for bounded problem\n",
    "output_layer = Dense(1, activation='linear', name='main_output')(layer)\n",
    "#output_layer = LeakyReLU('alpha=0.3')\n",
    "#model.add(LeakyReLU(alpha=.001))\n",
    "model = Model(input=[input_layer,jet_pt_ak7_input,jet_eta_ak7_input], output=output_layer)\n",
    "#model = Model(input=input_layer, output=output_layer)\n",
    "#model.compile(optimizer='adam', loss='kullback_leibler_divergence', metrics=['accuracy','precision','mse','msle'])\n",
    "model.compile(optimizer='adam', loss='mse', metrics=['accuracy','precision','mse','msle'])"
   ]
  },
  {
   "cell_type": "code",
   "execution_count": 12,
   "metadata": {
    "scrolled": true
   },
   "outputs": [
    {
     "data": {
      "text/plain": [
       "\"\\nfrom IPython.display import SVG\\nfrom keras.utils.vis_utils import model_to_dot\\nSVG(model_to_dot(model).create(prog='dot', format='svg'))\\n\\nfrom keras_diagram import ascii\\nprint(ascii(model))\\n\\n\""
      ]
     },
     "execution_count": 12,
     "metadata": {},
     "output_type": "execute_result"
    }
   ],
   "source": [
    "'''\n",
    "from IPython.display import SVG\n",
    "from keras.utils.vis_utils import model_to_dot\n",
    "SVG(model_to_dot(model).create(prog='dot', format='svg'))\n",
    "\n",
    "from keras_diagram import ascii\n",
    "print(ascii(model))\n",
    "\n",
    "'''"
   ]
  },
  {
   "cell_type": "code",
   "execution_count": 13,
   "metadata": {
    "collapsed": true
   },
   "outputs": [],
   "source": [
    "from keras.callbacks import EarlyStopping \n",
    "early_stopping = EarlyStopping(monitor='val_loss', patience=20)"
   ]
  },
  {
   "cell_type": "code",
   "execution_count": null,
   "metadata": {
    "collapsed": true
   },
   "outputs": [],
   "source": [
    "bs=10"
   ]
  },
  {
   "cell_type": "code",
   "execution_count": null,
   "metadata": {
    "scrolled": true
   },
   "outputs": [
    {
     "name": "stdout",
     "output_type": "stream",
     "text": [
      "Train on 148244 samples, validate on 148244 samples\n",
      "Epoch 1/100\n",
      "148244/148244 [==============================] - 159s - loss: 0.0044 - acc: 0.0000e+00 - precision: 1.0000 - mean_squared_error: 0.0044 - mean_squared_logarithmic_error: 0.0012 - val_loss: 7.4708e-04 - val_acc: 0.0000e+00 - val_precision: 1.0000 - val_mean_squared_error: 7.4708e-04 - val_mean_squared_logarithmic_error: 1.8989e-04\n",
      "Epoch 2/100\n",
      "148244/148244 [==============================] - 164s - loss: 7.1242e-04 - acc: 0.0000e+00 - precision: 1.0000 - mean_squared_error: 7.1242e-04 - mean_squared_logarithmic_error: 1.8023e-04 - val_loss: 6.4588e-04 - val_acc: 0.0000e+00 - val_precision: 1.0000 - val_mean_squared_error: 6.4588e-04 - val_mean_squared_logarithmic_error: 1.6268e-04\n",
      "Epoch 3/100\n",
      "148244/148244 [==============================] - 167s - loss: 6.5564e-04 - acc: 0.0000e+00 - precision: 1.0000 - mean_squared_error: 6.5564e-04 - mean_squared_logarithmic_error: 1.6572e-04 - val_loss: 6.0871e-04 - val_acc: 0.0000e+00 - val_precision: 1.0000 - val_mean_squared_error: 6.0871e-04 - val_mean_squared_logarithmic_error: 1.5365e-04\n",
      "Epoch 4/100\n",
      "148244/148244 [==============================] - 166s - loss: 6.3881e-04 - acc: 0.0000e+00 - precision: 1.0000 - mean_squared_error: 6.3881e-04 - mean_squared_logarithmic_error: 1.6085e-04 - val_loss: 5.9241e-04 - val_acc: 0.0000e+00 - val_precision: 1.0000 - val_mean_squared_error: 5.9241e-04 - val_mean_squared_logarithmic_error: 1.4931e-04\n",
      "Epoch 5/100\n",
      "148244/148244 [==============================] - 165s - loss: 6.2275e-04 - acc: 0.0000e+00 - precision: 1.0000 - mean_squared_error: 6.2275e-04 - mean_squared_logarithmic_error: 1.5724e-04 - val_loss: 6.1932e-04 - val_acc: 0.0000e+00 - val_precision: 1.0000 - val_mean_squared_error: 6.1932e-04 - val_mean_squared_logarithmic_error: 1.5680e-04\n",
      "Epoch 6/100\n",
      "148244/148244 [==============================] - 165s - loss: 6.2153e-04 - acc: 0.0000e+00 - precision: 1.0000 - mean_squared_error: 6.2153e-04 - mean_squared_logarithmic_error: 1.5691e-04 - val_loss: 5.8537e-04 - val_acc: 0.0000e+00 - val_precision: 1.0000 - val_mean_squared_error: 5.8537e-04 - val_mean_squared_logarithmic_error: 1.4763e-04\n",
      "Epoch 7/100\n",
      "148244/148244 [==============================] - 165s - loss: 6.1037e-04 - acc: 0.0000e+00 - precision: 1.0000 - mean_squared_error: 6.1037e-04 - mean_squared_logarithmic_error: 1.5403e-04 - val_loss: 5.9591e-04 - val_acc: 0.0000e+00 - val_precision: 1.0000 - val_mean_squared_error: 5.9591e-04 - val_mean_squared_logarithmic_error: 1.5004e-04\n",
      "Epoch 8/100\n",
      "148244/148244 [==============================] - 167s - loss: 6.0231e-04 - acc: 0.0000e+00 - precision: 1.0000 - mean_squared_error: 6.0231e-04 - mean_squared_logarithmic_error: 1.5197e-04 - val_loss: 5.7603e-04 - val_acc: 0.0000e+00 - val_precision: 1.0000 - val_mean_squared_error: 5.7603e-04 - val_mean_squared_logarithmic_error: 1.4526e-04\n",
      "Epoch 9/100\n",
      "148244/148244 [==============================] - 155s - loss: 5.9334e-04 - acc: 0.0000e+00 - precision: 1.0000 - mean_squared_error: 5.9334e-04 - mean_squared_logarithmic_error: 1.4965e-04 - val_loss: 5.7754e-04 - val_acc: 0.0000e+00 - val_precision: 1.0000 - val_mean_squared_error: 5.7754e-04 - val_mean_squared_logarithmic_error: 1.4538e-04\n",
      "Epoch 10/100\n",
      "148244/148244 [==============================] - 166s - loss: 5.9080e-04 - acc: 0.0000e+00 - precision: 1.0000 - mean_squared_error: 5.9080e-04 - mean_squared_logarithmic_error: 1.4898e-04 - val_loss: 5.6820e-04 - val_acc: 0.0000e+00 - val_precision: 1.0000 - val_mean_squared_error: 5.6820e-04 - val_mean_squared_logarithmic_error: 1.4333e-04\n",
      "Epoch 11/100\n",
      " 26200/148244 [====>.........................] - ETA: 97s - loss: 5.7789e-04 - acc: 0.0000e+00 - precision: 1.0000 - mean_squared_error: 5.7789e-04 - mean_squared_logarithmic_error: 1.4579e-04"
     ]
    }
   ],
   "source": [
    "history = model.fit(X_train, encoded_Y_train, validation_data=(X_test, encoded_Y_test), \n",
    "                    nb_epoch=100, batch_size=bs, verbose=1, callbacks=[early_stopping])"
   ]
  },
  {
   "cell_type": "code",
   "execution_count": null,
   "metadata": {
    "collapsed": true
   },
   "outputs": [],
   "source": [
    "p_train = model.predict(X_train)\n",
    "p_test = model.predict(X_test)"
   ]
  },
  {
   "cell_type": "code",
   "execution_count": null,
   "metadata": {
    "collapsed": true
   },
   "outputs": [],
   "source": [
    "def plot_JEC( xyls ):\n",
    "    plt.figure(figsize=(6,6))\n",
    "    plt.grid()\n",
    "    for X,Y,L in xyls:\n",
    "        plt.scatter( X,Y, label=L, alpha=0.5 , marker='.')\n",
    "    plt.xlim((0.8,1.2))\n",
    "    plt.ylim((0.8,1.2))\n",
    "    plt.hlines(1., 0.8,1.2)\n",
    "    plt.vlines(1., 0.8,1.2)\n",
    "    plt.xlabel( 'True JEC')\n",
    "    plt.ylabel('Prediction')\n",
    "    plt.legend()\n",
    "    plt.show()"
   ]
  },
  {
   "cell_type": "code",
   "execution_count": null,
   "metadata": {
    "collapsed": true
   },
   "outputs": [],
   "source": [
    "plot_JEC([\n",
    "    (encoded_Y_train, p_train, 'Prediction on the train sample'),\n",
    "    (encoded_Y_test, p_test, 'Prediction on the test sample')\n",
    "])\n",
    "plot_JEC([(encoded_Y_test, p_test, 'Prediction on the test sample')])\n",
    "plot_JEC([(encoded_Y_train, p_train, 'Prediction on the train sample')])"
   ]
  },
  {
   "cell_type": "code",
   "execution_count": null,
   "metadata": {},
   "outputs": [],
   "source": [
    "plt.figure(figsize=(6,6))\n",
    "plt.grid()\n",
    "plt.title('Training Sample')\n",
    "plt.scatter( X_train[1], encoded_Y_train, label='Input ', alpha=0.5 , marker='.')\n",
    "plt.scatter( X_train[1],p_train, label='Prediction', alpha=0.5 , marker='.')\n",
    "plt.xlim((-1.5,2.5))\n",
    "plt.ylim((0.8,1.2))\n",
    "plt.hlines(1., -1.5,2.5)\n",
    "plt.vlines(3.0, 0.8,1.2)\n",
    "plt.xlabel(r'Scaled Jet p$_{T}$')\n",
    "plt.ylabel('JES')\n",
    "plt.legend()\n",
    "plt.show()\n",
    "plt.figure(figsize=(6,6))\n",
    "plt.grid()\n",
    "plt.title('Testing Sample')\n",
    "plt.scatter( X_test[1], encoded_Y_test, label='Input ', alpha=0.5 , marker='.')\n",
    "plt.scatter( X_test[1],p_test, label='Prediction', alpha=0.5 , marker='.')\n",
    "plt.xlim((-1.5,2.5))\n",
    "plt.ylim((0.8,1.2))\n",
    "plt.hlines(1., -1.5,2.5)\n",
    "plt.vlines(3.0, 0.8,1.2)\n",
    "plt.xlabel(r'Scaled Jet p$_{T}$')\n",
    "plt.ylabel('JES')\n",
    "plt.legend()\n",
    "plt.show()"
   ]
  },
  {
   "cell_type": "code",
   "execution_count": null,
   "metadata": {},
   "outputs": [],
   "source": [
    "plt.figure(figsize=(6,6))\n",
    "plt.grid()\n",
    "plt.title('Training Sample')\n",
    "plt.scatter( X_train[2], encoded_Y_train, label='Input ', alpha=0.5 , marker='.')\n",
    "plt.scatter( X_train[2],p_train, label='Prediction', alpha=0.5 , marker='.')\n",
    "plt.xlim((-1.,1.))\n",
    "plt.ylim((0.8,1.2))\n",
    "plt.hlines(5., -1.,1.)\n",
    "plt.vlines(3.0, 0.8,1.2)\n",
    "plt.xlabel(r'Scaled Jet $\\eta$')\n",
    "plt.ylabel('JES')\n",
    "plt.legend()\n",
    "plt.show()\n",
    "plt.figure(figsize=(6,6))\n",
    "plt.grid()\n",
    "plt.title('Testing Sample')\n",
    "plt.scatter( X_test[2], encoded_Y_test, label='Input ', alpha=0.5 , marker='.')\n",
    "plt.scatter( X_test[2],p_test, label='Prediction', alpha=0.5 , marker='.')\n",
    "plt.xlim((-1.,1.))\n",
    "plt.ylim((0.8,1.2))\n",
    "plt.hlines(5., -1.,1.)\n",
    "plt.vlines(3.0, 0.8,1.2)\n",
    "plt.xlabel(r'Scaled Jet $\\eta$')\n",
    "plt.ylabel('JES')\n",
    "plt.legend()\n",
    "plt.show()"
   ]
  },
  {
   "cell_type": "code",
   "execution_count": null,
   "metadata": {
    "collapsed": true
   },
   "outputs": [],
   "source": []
  }
 ],
 "metadata": {
  "kernelspec": {
   "display_name": "Python 2",
   "language": "python",
   "name": "python2"
  },
  "language_info": {
   "codemirror_mode": {
    "name": "ipython",
    "version": 2
   },
   "file_extension": ".py",
   "mimetype": "text/x-python",
   "name": "python",
   "nbconvert_exporter": "python",
   "pygments_lexer": "ipython2",
   "version": "2.7.13"
  }
 },
 "nbformat": 4,
 "nbformat_minor": 2
}
