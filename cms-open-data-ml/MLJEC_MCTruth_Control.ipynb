{
 "cells": [
  {
   "cell_type": "code",
   "execution_count": 1,
   "metadata": {
    "collapsed": false,
    "scrolled": false
   },
   "outputs": [
    {
     "name": "stderr",
     "output_type": "stream",
     "text": [
      "Using TensorFlow backend.\n"
     ]
    },
    {
     "name": "stdout",
     "output_type": "stream",
     "text": [
      "('run', 'lumi', 'event', 'met', 'sumet', 'rho', 'pthat', 'mcweight', 'njet_ak7', 'jet_pt_ak7', 'jet_eta_ak7', 'jet_phi_ak7', 'jet_E_ak7', 'jet_msd_ak7', 'jet_area_ak7', 'jet_jes_ak7', 'jet_tau21_ak7', 'jet_isW_ak7', 'jet_ncand_ak7', 'ak7pfcand_pt', 'ak7pfcand_eta', 'ak7pfcand_phi', 'ak7pfcand_id', 'ak7pfcand_charge', 'ak7pfcand_ijet')\n",
      "number of W jets: 1185\n",
      "number of QCD jets in bin QCD120: 24\n",
      "number of QCD jets in bin QCD170: 392\n",
      "number of QCD jets in bin QCD300: 770\n",
      "number of QCD jets in bin QCD470: 391\n",
      "       jet_pt_ak7  jet_tau21_ak7  jet_msd_ak7  jet_ncand_ak7  jet_isW_ak7  \\\n",
      "2208   313.384524       0.452382   126.013992             67            1   \n",
      "4768   223.893098       0.198801    73.040235             46            1   \n",
      "12360  287.095779       0.394389    91.601222             77            1   \n",
      "\n",
      "       pthat    mcweight  \n",
      "2208     0.0  147.332993  \n",
      "4768     0.0  147.332993  \n",
      "12360    0.0  147.332993  \n",
      "        jet_pt_ak7  jet_tau21_ak7  jet_msd_ak7  jet_ncand_ak7  jet_isW_ak7  \\\n",
      "6949    204.476923       0.470326    71.943063             62            0   \n",
      "39314   240.005554       0.235678    68.595194             51            0   \n",
      "112770  206.805236       0.760670    18.507656             40            0   \n",
      "\n",
      "             pthat  mcweight  \n",
      "6949    124.075584  115133.5  \n",
      "39314   130.576324  115133.5  \n",
      "112770  145.618469  115133.5  \n",
      "Loaded model from disk\n",
      "('run', 'lumi', 'event', 'met', 'sumet', 'rho', 'pthat', 'mcweight', 'njet_ak7', 'jet_pt_ak7', 'jet_eta_ak7', 'jet_phi_ak7', 'jet_E_ak7', 'jet_msd_ak7', 'jet_area_ak7', 'jet_jes_ak7', 'jet_tau21_ak7', 'jet_isW_ak7', 'jet_ncand_ak7', 'ak7pfcand_pt', 'ak7pfcand_eta', 'ak7pfcand_phi', 'ak7pfcand_id', 'ak7pfcand_charge', 'ak7pfcand_ijet')\n",
      "1577\n",
      "[ 1.00432361  1.01547892  1.01314203 ...,  0.98228276  0.92902871\n",
      "  1.02328305]\n",
      "[[ 0.96625489]\n",
      " [ 0.97905749]\n",
      " [ 0.93689501]\n",
      " ..., \n",
      " [ 0.93676728]\n",
      " [ 0.96596539]\n",
      " [ 0.90386677]]\n"
     ]
    },
    {
     "data": {
      "image/png": "[encoded data removed]",
      "text/plain": [
       "<matplotlib.figure.Figure at 0x7f9279ac5650>"
      ]
     },
     "metadata": {},
     "output_type": "display_data"
    }
   ],
   "source": [
    "import MLJEC_MCTruth_Model\n",
    "\n",
    "MLJEC_MCTruth_Model.main(open_models=True,train_models=False,\\\n",
    "                         save_models=False,plot=True,debug=False,verbose=True)"
   ]
  },
  {
   "cell_type": "code",
   "execution_count": null,
   "metadata": {
    "collapsed": true
   },
   "outputs": [],
   "source": []
  }
 ],
 "metadata": {
  "anaconda-cloud": {},
  "kernelspec": {
   "display_name": "Python [default]",
   "language": "python",
   "name": "python2"
  },
  "language_info": {
   "codemirror_mode": {
    "name": "ipython",
    "version": 2
   },
   "file_extension": ".py",
   "mimetype": "text/x-python",
   "name": "python",
   "nbconvert_exporter": "python",
   "pygments_lexer": "ipython2",
   "version": "2.7.12"
  },
  "widgets": {
   "state": {
    "6544410337e34a69bb438a54260cbda5": {
     "views": [
      {
       "cell_index": 0
      }
     ]
    }
   },
   "version": "1.2.0"
  }
 },
 "nbformat": 4,
 "nbformat_minor": 1
}
