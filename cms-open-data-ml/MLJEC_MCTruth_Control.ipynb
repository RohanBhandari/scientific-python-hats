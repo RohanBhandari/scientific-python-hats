{
 "cells": [
  {
   "cell_type": "code",
   "execution_count": null,
   "metadata": {
    "scrolled": false
   },
   "outputs": [
    {
     "name": "stderr",
     "output_type": "stream",
     "text": [
      "Using TensorFlow backend.\n"
     ]
    },
    {
     "name": "stdout",
     "output_type": "stream",
     "text": [
      "number of QCD jets in bin QCD120: 20903\n",
      "number of QCD jets in bin QCD170: 19495\n",
      "number of QCD jets in bin QCD300: 17743\n",
      "number of QCD jets in bin QCD470: 15981\n",
      "    jet_pt_ak7  jet_tau21_ak7  jet_msd_ak7  jet_ncand_ak7  jet_isW_ak7  \\\n",
      "0   180.072424       0.861958    18.933760             45            0   \n",
      "45  101.262630       0.612603     4.174309             14            0   \n",
      "59  128.320712       0.889428    15.329242             51            0   \n",
      "\n",
      "         pthat  mcweight  \n",
      "0   126.673920  115133.5  \n",
      "45  126.673920  115133.5  \n",
      "59  146.858353  115133.5  \n",
      "('run', 'lumi', 'event', 'met', 'sumet', 'rho', 'pthat', 'mcweight', 'njet_ak7', 'jet_pt_ak7', 'jet_eta_ak7', 'jet_phi_ak7', 'jet_E_ak7', 'jet_msd_ak7', 'jet_area_ak7', 'jet_jes_ak7', 'jet_tau21_ak7', 'jet_isW_ak7', 'jet_ncand_ak7', 'ak7pfcand_pt', 'ak7pfcand_eta', 'ak7pfcand_phi', 'ak7pfcand_id', 'ak7pfcand_charge', 'ak7pfcand_ijet')\n",
      "Length of QCD jets = \n",
      "74122\n",
      "Now going through fitModels\n",
      "____________________________________________________________________________________________________\n",
      "Layer (type)                     Output Shape          Param #     Connected to                     \n",
      "====================================================================================================\n",
      "input_1 (InputLayer)             (None, 30, 30, 1)     0                                            \n",
      "____________________________________________________________________________________________________\n",
      "convolution2d_1 (Convolution2D)  (None, 30, 30, 20)    2440        input_1[0][0]                    \n",
      "____________________________________________________________________________________________________\n",
      "activation_1 (Activation)        (None, 30, 30, 20)    0           convolution2d_1[0][0]            \n",
      "____________________________________________________________________________________________________\n",
      "maxpooling2d_1 (MaxPooling2D)    (None, 15, 15, 20)    0           activation_1[0][0]               \n",
      "____________________________________________________________________________________________________\n",
      "convolution2d_2 (Convolution2D)  (None, 15, 15, 10)    9810        maxpooling2d_1[0][0]             \n",
      "____________________________________________________________________________________________________\n",
      "activation_2 (Activation)        (None, 15, 15, 10)    0           convolution2d_2[0][0]            \n",
      "____________________________________________________________________________________________________\n",
      "maxpooling2d_2 (MaxPooling2D)    (None, 5, 5, 10)      0           activation_2[0][0]               \n",
      "____________________________________________________________________________________________________\n",
      "convolution2d_3 (Convolution2D)  (None, 5, 5, 8)       2008        maxpooling2d_2[0][0]             \n",
      "____________________________________________________________________________________________________\n",
      "activation_3 (Activation)        (None, 5, 5, 8)       0           convolution2d_3[0][0]            \n",
      "____________________________________________________________________________________________________\n",
      "maxpooling2d_3 (MaxPooling2D)    (None, 2, 2, 8)       0           activation_3[0][0]               \n",
      "____________________________________________________________________________________________________\n",
      "convolution2d_4 (Convolution2D)  (None, 2, 2, 6)       1206        maxpooling2d_3[0][0]             \n",
      "____________________________________________________________________________________________________\n",
      "activation_4 (Activation)        (None, 2, 2, 6)       0           convolution2d_4[0][0]            \n",
      "____________________________________________________________________________________________________\n",
      "maxpooling2d_4 (MaxPooling2D)    (None, 1, 1, 6)       0           activation_4[0][0]               \n",
      "____________________________________________________________________________________________________\n",
      "convolution2d_5 (Convolution2D)  (None, 1, 1, 4)       604         maxpooling2d_4[0][0]             \n",
      "____________________________________________________________________________________________________\n",
      "activation_5 (Activation)        (None, 1, 1, 4)       0           convolution2d_5[0][0]            \n",
      "____________________________________________________________________________________________________\n",
      "flatten_1 (Flatten)              (None, 4)             0           activation_5[0][0]               \n",
      "____________________________________________________________________________________________________\n",
      "jet_pt_ak7_input (InputLayer)    (None, 1)             0                                            \n",
      "____________________________________________________________________________________________________\n",
      "jet_eta_ak7_input (InputLayer)   (None, 1)             0                                            \n",
      "____________________________________________________________________________________________________\n",
      "merge_1 (Merge)                  (None, 6)             0           flatten_1[0][0]                  \n",
      "                                                                   jet_pt_ak7_input[0][0]           \n",
      "                                                                   jet_eta_ak7_input[0][0]          \n",
      "____________________________________________________________________________________________________\n",
      "dense_1 (Dense)                  (None, 20)            140         merge_1[0][0]                    \n",
      "____________________________________________________________________________________________________\n",
      "dropout_1 (Dropout)              (None, 20)            0           dense_1[0][0]                    \n",
      "____________________________________________________________________________________________________\n",
      "main_output (Dense)              (None, 1)             21          dropout_1[0][0]                  \n",
      "====================================================================================================\n",
      "Total params: 16,229\n",
      "Trainable params: 16,229\n",
      "Non-trainable params: 0\n",
      "____________________________________________________________________________________________________\n",
      "(148244, 30, 30, 1)\n",
      "Train on 148244 samples, validate on 148244 samples\n",
      "Epoch 1/100\n",
      "148244/148244 [==============================] - 538s - loss: 0.1996 - acc: 0.0000e+00 - precision: 1.0020 - mean_squared_error: 0.1996 - mean_squared_logarithmic_error: 0.0626 - val_loss: 0.0021 - val_acc: 0.0000e+00 - val_precision: 1.0000 - val_mean_squared_error: 0.0021 - val_mean_squared_logarithmic_error: 5.2107e-04\n",
      "Epoch 2/100\n",
      "148244/148244 [==============================] - 557s - loss: 0.0747 - acc: 0.0000e+00 - precision: 1.0008 - mean_squared_error: 0.0747 - mean_squared_logarithmic_error: 0.0217 - val_loss: 0.0013 - val_acc: 0.0000e+00 - val_precision: 1.0000 - val_mean_squared_error: 0.0013 - val_mean_squared_logarithmic_error: 3.3614e-04\n",
      "Epoch 3/100\n",
      "148244/148244 [==============================] - 559s - loss: 0.0562 - acc: 0.0000e+00 - precision: 1.0008 - mean_squared_error: 0.0562 - mean_squared_logarithmic_error: 0.0159 - val_loss: 0.0014 - val_acc: 0.0000e+00 - val_precision: 1.0000 - val_mean_squared_error: 0.0014 - val_mean_squared_logarithmic_error: 3.5320e-04\n",
      "Epoch 4/100\n",
      " 20480/148244 [===>..........................] - ETA: 324s - loss: 0.0474 - acc: 0.0000e+00 - precision: 1.0005 - mean_squared_error: 0.0474 - mean_squared_logarithmic_error: 0.0133"
     ]
    }
   ],
   "source": [
    "import MLJEC_MCTruth_Model\n",
    "\n",
    "MLJEC_MCTruth_Model.main(open_models=False,train_models=True,\\\n",
    "                         save_models=True,plot=True,generator=False,\\\n",
    "                         reset=False,debug=True,verbose=True)"
   ]
  },
  {
   "cell_type": "raw",
   "metadata": {
    "collapsed": true
   },
   "source": []
  },
  {
   "cell_type": "code",
   "execution_count": null,
   "metadata": {
    "collapsed": true
   },
   "outputs": [],
   "source": []
  }
 ],
 "metadata": {
  "anaconda-cloud": {},
  "kernelspec": {
   "display_name": "Python 2",
   "language": "python",
   "name": "python2"
  },
  "language_info": {
   "codemirror_mode": {
    "name": "ipython",
    "version": 2
   },
   "file_extension": ".py",
   "mimetype": "text/x-python",
   "name": "python",
   "nbconvert_exporter": "python",
   "pygments_lexer": "ipython2",
   "version": "2.7.13"
  }
 },
 "nbformat": 4,
 "nbformat_minor": 1
}
